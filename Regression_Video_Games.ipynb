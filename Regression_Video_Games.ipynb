{
 "cells": [
  {
   "cell_type": "markdown",
   "id": "f2ec8fc8",
   "metadata": {},
   "source": [
    "# <p> <center style=\"background-color:#5c0707;font-family:Palatino Linotype;color:white;font-size:150%;text-align:center;border-radius:0px;padding:10px\">  Video games sales regression techniques   </center></p>\n"
   ]
  },
  {
   "cell_type": "markdown",
   "id": "521c4792",
   "metadata": {},
   "source": [
    "# Table of Contents\n",
    "\n",
    "1. [Introduction](#introduction)  \n",
    "2. [Data Description](#data-description)  \n",
    "3. [Data Preprocessing](#data-preprocessing)  \n",
    "4. [Data Visualizations](#4-visualizations-of-the-data-and-analysis)\n",
    "5. [Model Training](#5-statistical-models-for-regression)\n",
    "6. [Model Evaluation](#6-metrics-evaluation)\n",
    "7. [Conclusion](#7-conclusion)  \n",
    "8. [References](#8-references)  "
   ]
  },
  {
   "cell_type": "markdown",
   "id": "55f7be15",
   "metadata": {},
   "source": [
    "# <p> <center style=\"background-color:#b76e79;font-family:Palatino Linotype;color:white;font-size:150%;text-align:center;border-radius:0px;padding:10px\"> 1. Introduction </center></p>\n",
    "\n",
    "Forecasting video game sales is a useful tool for publishers, developers, and investors in the gaming sector.  \n",
    "Based on important characteristics including user ratings, critic reviews, and time since release, we can forecast a video game's worldwide sales using machine learning regression algorithms.\n",
    "\n",
    "This project aims to:\n",
    "- Examine the effects of various qualities on sales performance.\n",
    "\n",
    "- Apply and compare multiple regression models (Linear Regression, KNN, Decision Trees).\n",
    "\n",
    "- Use code documentation and environment control to guarantee reproducibility."
   ]
  },
  {
   "cell_type": "markdown",
   "id": "a32ee58e",
   "metadata": {},
   "source": [
    "# <p> <center style=\"background-color:#b76e79;font-family:Palatino Linotype;color:white;font-size:150%;text-align:center;border-radius:0px;padding:10px\"> 2. Data Description </center></p>\n",
    "\n",
    "The dataset used is from [Kaggle](https://www.kaggle.com/code/yonatanrabinovich/video-games-sales-regression-techniques), titled **“Video games sales regression techniques”**.\n",
    "\n",
    "- **Rows**: 16,719 video games  \n",
    "- **Columns**: 16 variables, including:\n",
    "  - `Name`: Game title  \n",
    "  - `Platform`: Console/platform (e.g., PS4, X360)  \n",
    "  - `Year_of_Release`: Year the game was released  \n",
    "  - `Genre`, `Publisher`: Category and publisher of the game  \n",
    "  - `Critic_Score`, `User_Score`: Aggregated ratings from critics and users  \n",
    "  - `NA_Sales`, `EU_Sales`, `JP_Sales`, `Other_Sales`: Regional sales in millions  \n",
    "  - `Global_Sales`: Total worldwide sales (target variable)\n",
    "  - `Critic_Count`, `User_Count`: number of critics used for critics score and number of users who gave user score\n",
    "  - `Developer`: Developer of the game\n",
    "  - `Rating`: The ESRB ratings\n",
    "  - `Game_Age`: Calculated as `2016 - Year_of_Release` to measure how long a game has been on the market.\n",
    "\n"
   ]
  },
  {
   "cell_type": "markdown",
   "id": "9068cc88",
   "metadata": {},
   "source": [
    "### Loading necassary packages "
   ]
  },
  {
   "cell_type": "code",
   "execution_count": null,
   "id": "29802850",
   "metadata": {},
   "outputs": [],
   "source": [
    "import pandas as pd\n",
    "import numpy as np\n",
    "import matplotlib.pyplot as plt\n",
    "import seaborn as sns\n",
    "import warnings\n",
    "warnings.filterwarnings('ignore')\n",
    "\n",
    "from sklearn.linear_model import LinearRegression\n",
    "from sklearn.neighbors import KNeighborsRegressor\n",
    "from sklearn.tree import DecisionTreeRegressor\n",
    "from sklearn.model_selection import train_test_split, cross_val_score, KFold\n",
    "from sklearn.metrics import mean_squared_error, mean_absolute_error, r2_score\n",
    "\n",
    "\n",
    "import random, os\n",
    "SEED = 5 # like in the original project\n",
    "random.seed(SEED)\n",
    "np.random.seed(SEED)\n",
    "os.environ['PYTHONHASHSEED'] = str(SEED)"
   ]
  },
  {
   "cell_type": "markdown",
   "id": "34441d72",
   "metadata": {},
   "source": [
    "# <p> <center style=\"background-color:#b76e79;font-family:Palatino Linotype;color:white;font-size:150%;text-align:center;border-radius:0px;padding:10px\"> 3. Data preprocessing  </center></p>"
   ]
  },
  {
   "cell_type": "code",
   "execution_count": 3,
   "id": "49ab79ce",
   "metadata": {},
   "outputs": [],
   "source": [
    "# Load dataset\n",
    "vgsales = pd.read_csv('Data/Video_Games_Sales_as_at_22_Dec_2016.csv', na_values=[\"\", \" \", \"NA\", \"N/A\"])"
   ]
  },
  {
   "cell_type": "code",
   "execution_count": 4,
   "id": "813a1fa4",
   "metadata": {},
   "outputs": [
    {
     "data": {
      "text/html": [
       "<div>\n",
       "<style scoped>\n",
       "    .dataframe tbody tr th:only-of-type {\n",
       "        vertical-align: middle;\n",
       "    }\n",
       "\n",
       "    .dataframe tbody tr th {\n",
       "        vertical-align: top;\n",
       "    }\n",
       "\n",
       "    .dataframe thead th {\n",
       "        text-align: right;\n",
       "    }\n",
       "</style>\n",
       "<table border=\"1\" class=\"dataframe\">\n",
       "  <thead>\n",
       "    <tr style=\"text-align: right;\">\n",
       "      <th></th>\n",
       "      <th>Name</th>\n",
       "      <th>Platform</th>\n",
       "      <th>Year_of_Release</th>\n",
       "      <th>Genre</th>\n",
       "      <th>Publisher</th>\n",
       "      <th>NA_Sales</th>\n",
       "      <th>EU_Sales</th>\n",
       "      <th>JP_Sales</th>\n",
       "      <th>Other_Sales</th>\n",
       "      <th>Global_Sales</th>\n",
       "      <th>Critic_Score</th>\n",
       "      <th>Critic_Count</th>\n",
       "      <th>User_Score</th>\n",
       "      <th>User_Count</th>\n",
       "      <th>Developer</th>\n",
       "      <th>Rating</th>\n",
       "    </tr>\n",
       "  </thead>\n",
       "  <tbody>\n",
       "    <tr>\n",
       "      <th>0</th>\n",
       "      <td>Wii Sports</td>\n",
       "      <td>Wii</td>\n",
       "      <td>2006.0</td>\n",
       "      <td>Sports</td>\n",
       "      <td>Nintendo</td>\n",
       "      <td>41.36</td>\n",
       "      <td>28.96</td>\n",
       "      <td>3.77</td>\n",
       "      <td>8.45</td>\n",
       "      <td>82.53</td>\n",
       "      <td>76.0</td>\n",
       "      <td>51.0</td>\n",
       "      <td>8</td>\n",
       "      <td>322.0</td>\n",
       "      <td>Nintendo</td>\n",
       "      <td>E</td>\n",
       "    </tr>\n",
       "    <tr>\n",
       "      <th>1</th>\n",
       "      <td>Super Mario Bros.</td>\n",
       "      <td>NES</td>\n",
       "      <td>1985.0</td>\n",
       "      <td>Platform</td>\n",
       "      <td>Nintendo</td>\n",
       "      <td>29.08</td>\n",
       "      <td>3.58</td>\n",
       "      <td>6.81</td>\n",
       "      <td>0.77</td>\n",
       "      <td>40.24</td>\n",
       "      <td>NaN</td>\n",
       "      <td>NaN</td>\n",
       "      <td>NaN</td>\n",
       "      <td>NaN</td>\n",
       "      <td>NaN</td>\n",
       "      <td>NaN</td>\n",
       "    </tr>\n",
       "    <tr>\n",
       "      <th>2</th>\n",
       "      <td>Mario Kart Wii</td>\n",
       "      <td>Wii</td>\n",
       "      <td>2008.0</td>\n",
       "      <td>Racing</td>\n",
       "      <td>Nintendo</td>\n",
       "      <td>15.68</td>\n",
       "      <td>12.76</td>\n",
       "      <td>3.79</td>\n",
       "      <td>3.29</td>\n",
       "      <td>35.52</td>\n",
       "      <td>82.0</td>\n",
       "      <td>73.0</td>\n",
       "      <td>8.3</td>\n",
       "      <td>709.0</td>\n",
       "      <td>Nintendo</td>\n",
       "      <td>E</td>\n",
       "    </tr>\n",
       "    <tr>\n",
       "      <th>3</th>\n",
       "      <td>Wii Sports Resort</td>\n",
       "      <td>Wii</td>\n",
       "      <td>2009.0</td>\n",
       "      <td>Sports</td>\n",
       "      <td>Nintendo</td>\n",
       "      <td>15.61</td>\n",
       "      <td>10.93</td>\n",
       "      <td>3.28</td>\n",
       "      <td>2.95</td>\n",
       "      <td>32.77</td>\n",
       "      <td>80.0</td>\n",
       "      <td>73.0</td>\n",
       "      <td>8</td>\n",
       "      <td>192.0</td>\n",
       "      <td>Nintendo</td>\n",
       "      <td>E</td>\n",
       "    </tr>\n",
       "    <tr>\n",
       "      <th>4</th>\n",
       "      <td>Pokemon Red/Pokemon Blue</td>\n",
       "      <td>GB</td>\n",
       "      <td>1996.0</td>\n",
       "      <td>Role-Playing</td>\n",
       "      <td>Nintendo</td>\n",
       "      <td>11.27</td>\n",
       "      <td>8.89</td>\n",
       "      <td>10.22</td>\n",
       "      <td>1.00</td>\n",
       "      <td>31.37</td>\n",
       "      <td>NaN</td>\n",
       "      <td>NaN</td>\n",
       "      <td>NaN</td>\n",
       "      <td>NaN</td>\n",
       "      <td>NaN</td>\n",
       "      <td>NaN</td>\n",
       "    </tr>\n",
       "  </tbody>\n",
       "</table>\n",
       "</div>"
      ],
      "text/plain": [
       "                       Name Platform  Year_of_Release         Genre Publisher  \\\n",
       "0                Wii Sports      Wii           2006.0        Sports  Nintendo   \n",
       "1         Super Mario Bros.      NES           1985.0      Platform  Nintendo   \n",
       "2            Mario Kart Wii      Wii           2008.0        Racing  Nintendo   \n",
       "3         Wii Sports Resort      Wii           2009.0        Sports  Nintendo   \n",
       "4  Pokemon Red/Pokemon Blue       GB           1996.0  Role-Playing  Nintendo   \n",
       "\n",
       "   NA_Sales  EU_Sales  JP_Sales  Other_Sales  Global_Sales  Critic_Score  \\\n",
       "0     41.36     28.96      3.77         8.45         82.53          76.0   \n",
       "1     29.08      3.58      6.81         0.77         40.24           NaN   \n",
       "2     15.68     12.76      3.79         3.29         35.52          82.0   \n",
       "3     15.61     10.93      3.28         2.95         32.77          80.0   \n",
       "4     11.27      8.89     10.22         1.00         31.37           NaN   \n",
       "\n",
       "   Critic_Count User_Score  User_Count Developer Rating  \n",
       "0          51.0          8       322.0  Nintendo      E  \n",
       "1           NaN        NaN         NaN       NaN    NaN  \n",
       "2          73.0        8.3       709.0  Nintendo      E  \n",
       "3          73.0          8       192.0  Nintendo      E  \n",
       "4           NaN        NaN         NaN       NaN    NaN  "
      ]
     },
     "execution_count": 4,
     "metadata": {},
     "output_type": "execute_result"
    }
   ],
   "source": [
    "vgsales.head()"
   ]
  },
  {
   "cell_type": "code",
   "execution_count": 5,
   "id": "b47d1291",
   "metadata": {},
   "outputs": [
    {
     "name": "stdout",
     "output_type": "stream",
     "text": [
      "<class 'pandas.core.frame.DataFrame'>\n",
      "RangeIndex: 16719 entries, 0 to 16718\n",
      "Data columns (total 16 columns):\n",
      " #   Column           Non-Null Count  Dtype  \n",
      "---  ------           --------------  -----  \n",
      " 0   Name             16717 non-null  object \n",
      " 1   Platform         16719 non-null  object \n",
      " 2   Year_of_Release  16450 non-null  float64\n",
      " 3   Genre            16717 non-null  object \n",
      " 4   Publisher        16665 non-null  object \n",
      " 5   NA_Sales         16719 non-null  float64\n",
      " 6   EU_Sales         16719 non-null  float64\n",
      " 7   JP_Sales         16719 non-null  float64\n",
      " 8   Other_Sales      16719 non-null  float64\n",
      " 9   Global_Sales     16719 non-null  float64\n",
      " 10  Critic_Score     8137 non-null   float64\n",
      " 11  Critic_Count     8137 non-null   float64\n",
      " 12  User_Score       10015 non-null  object \n",
      " 13  User_Count       7590 non-null   float64\n",
      " 14  Developer        10096 non-null  object \n",
      " 15  Rating           9950 non-null   object \n",
      "dtypes: float64(9), object(7)\n",
      "memory usage: 2.0+ MB\n"
     ]
    }
   ],
   "source": [
    "# Check structure\n",
    "vgsales.info()"
   ]
  },
  {
   "cell_type": "code",
   "execution_count": null,
   "id": "598025d6",
   "metadata": {},
   "outputs": [],
   "source": [
    "# Table to count number of NAs \n"
   ]
  },
  {
   "cell_type": "code",
   "execution_count": null,
   "id": "6a474518",
   "metadata": {},
   "outputs": [],
   "source": [
    "# Drop all NA values as the original project"
   ]
  },
  {
   "cell_type": "code",
   "execution_count": null,
   "id": "005a41c1",
   "metadata": {},
   "outputs": [],
   "source": [
    "# Drop all sales except global"
   ]
  },
  {
   "cell_type": "code",
   "execution_count": null,
   "id": "577fb84d",
   "metadata": {},
   "outputs": [],
   "source": [
    "# Summary table"
   ]
  },
  {
   "cell_type": "markdown",
   "id": "82210054",
   "metadata": {},
   "source": [
    "# <p> <center style=\"background-color:#b76e79;font-family:Palatino Linotype;color:white;font-size:150%;text-align:center;border-radius:0px;padding:10px\"> 4. Visualizations of the data and analysis  </center></p>\n"
   ]
  },
  {
   "cell_type": "markdown",
   "id": "610f1539",
   "metadata": {},
   "source": [
    "## Univariate plots"
   ]
  },
  {
   "cell_type": "markdown",
   "id": "7a8485d4",
   "metadata": {},
   "source": [
    "## Multivariate plots"
   ]
  },
  {
   "cell_type": "markdown",
   "id": "29beaa6d",
   "metadata": {},
   "source": [
    "# <p> <center style=\"background-color:#b76e79;font-family:Palatino Linotype;color:white;font-size:150%;text-align:center;border-radius:0px;padding:10px\"> 5. Statistical Models For Regression  </center></p>"
   ]
  },
  {
   "cell_type": "markdown",
   "id": "eda0ac47",
   "metadata": {},
   "source": [
    "## KNN Regressor"
   ]
  },
  {
   "cell_type": "markdown",
   "id": "da39b5f9",
   "metadata": {},
   "source": [
    "## Linear Regression\n"
   ]
  },
  {
   "cell_type": "markdown",
   "id": "7364ef38",
   "metadata": {},
   "source": [
    "## Decision Tree\n"
   ]
  },
  {
   "cell_type": "markdown",
   "id": "1c711dec",
   "metadata": {},
   "source": [
    "# <p> <center style=\"background-color:#b76e79;font-family:Palatino Linotype;color:white;font-size:150%;text-align:center;border-radius:0px;padding:10px\"> 6. Metrics Evaluation   </center></p>"
   ]
  },
  {
   "cell_type": "markdown",
   "id": "be1bfdf6",
   "metadata": {},
   "source": [
    "# <p> <center style=\"background-color:#b76e79;font-family:Palatino Linotype;color:white;font-size:150%;text-align:center;border-radius:0px;padding:10px\"> 7. Conclusion  </center></p>"
   ]
  },
  {
   "cell_type": "markdown",
   "id": "6c6a232e",
   "metadata": {},
   "source": [
    "# <p> <center style=\"background-color:#b76e79;font-family:Palatino Linotype;color:white;font-size:150%;text-align:center;border-radius:0px;padding:10px\"> 8. References  </center></p>\n"
   ]
  }
 ],
 "metadata": {
  "kernelspec": {
   "display_name": "Python 3",
   "language": "python",
   "name": "python3"
  },
  "language_info": {
   "codemirror_mode": {
    "name": "ipython",
    "version": 3
   },
   "file_extension": ".py",
   "mimetype": "text/x-python",
   "name": "python",
   "nbconvert_exporter": "python",
   "pygments_lexer": "ipython3",
   "version": "3.12.4"
  }
 },
 "nbformat": 4,
 "nbformat_minor": 5
}
